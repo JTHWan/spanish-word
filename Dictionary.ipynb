{
  "nbformat": 4,
  "nbformat_minor": 0,
  "metadata": {
    "colab": {
      "name": "Dictionary.ipynb",
      "version": "0.3.2",
      "provenance": []
    },
    "kernelspec": {
      "name": "python2",
      "display_name": "Python 2"
    }
  },
  "cells": [
    {
      "metadata": {
        "id": "0WsK_KcnRjej",
        "colab_type": "code",
        "outputId": "4de172c6-52cc-40c1-e990-6d141856a422",
        "colab": {
          "base_uri": "https://localhost:8080/",
          "height": 129
        }
      },
      "cell_type": "code",
      "source": [
        "subjects = {'1st sin': 'yo', '2nd sin': 'tú', '3rd sin':['él', 'ella', 'usted'],\n",
        "            '1st plu': ['nosotros', 'nosotras'], '2nd plu': ['vosotros', 'vosotras'],\n",
        "            '3rd plu': ['ellos', 'ellas', 'ustedes']}\n",
        "tenses = {'present': 'presente', 'preterite': 'pretérito', 'imperfect': 'imperfecto',\n",
        "          'conditional': 'condicional', 'future': 'futuro', 'past': 'pasado'}\n",
        "moods = {'indicative': 'indicativo', 'subjunctive': 'subjunctivo', 'imperative': 'imperativo',\n",
        "         'progressive': 'progresivo', 'perfect': 'perfecto', 'perfect subjunctive': 'subjunctivo perfecto'}\n",
        "class reg_Noun():\n",
        "  \n",
        "  #takes a word in american and returns it in illegal\n",
        "  def __init__(self, base, plural, def_art):\n",
        "    self.b = base\n",
        "    self.the = def_art\n",
        "    self.plu = plural\n",
        "    \n",
        "  def lookup(self, use_article, use_plural):\n",
        "    word = \"\"\n",
        "    if ((use_article == True) and (use_plural == False)):\n",
        "      word = (\" \" + self.the + \" \" + self.b + \" \")\n",
        "    if ((use_article == False) and (use_plural == True)):\n",
        "      word = (\" \" + self.plu + \" \")\n",
        "    if ((use_article == False) and (use_plural == False)):\n",
        "      word = (\" \" + self.b + \" \")\n",
        "    if ((use_article == True) and (use_plural == True)):  \n",
        "      word = (\" \" + self.the + \"s \" + self.plu + \" \")\n",
        "    return(word)      \n",
        "    \n",
        "    \n",
        "    \n",
        "class reg_Adject():\n",
        "  \n",
        "  #Add a clause for irregular adjectives later\n",
        "  def __init__(self, base):\n",
        "    self.b = base\n",
        "    \n",
        "  def lookup(self, use_masculine, use_plural):\n",
        "    word = \"\"\n",
        "    if ((use_masculine == True) and (use_plural == False)):\n",
        "      word = (\" \" + self.b + \"o \") \n",
        "    if ((use_masculine == False) and (use_plural == True)):\n",
        "      word = (\" \" + self.b + \"as \")\n",
        "    if ((use_masculine == False) and (use_plural == False)):\n",
        "      word = (\" \" + self.b + \"a \")\n",
        "    if ((use_masculine == True) and (use_plural == True)):  \n",
        "      word = (\" \" + self.b + \"os \")\n",
        "    return(word)  \n",
        "  \n",
        "  \n",
        "  class reg_Verbs():\n",
        "    \n",
        "    def __init__(self, base):\n",
        "      self.b = base\n",
        "      \n",
        "      def lookup(self, subject, tense, mood):\n",
        "        word = \"\"\n",
        "        #subject\n",
        "        if ((subject == \") and (tense == False) and (mood==\"):\n",
        "        \n",
        "        \n",
        "  \n",
        "  \n",
        "  "
      ],
      "execution_count": 0,
      "outputs": [
        {
          "output_type": "error",
          "ename": "SyntaxError",
          "evalue": "ignored",
          "traceback": [
            "\u001b[0;36m  File \u001b[0;32m\"<ipython-input-1-234ee66d878b>\"\u001b[0;36m, line \u001b[0;32m33\u001b[0m\n\u001b[0;31m    else if ((use_masculine == False) and (use_plural == True)):\u001b[0m\n\u001b[0m          ^\u001b[0m\n\u001b[0;31mSyntaxError\u001b[0m\u001b[0;31m:\u001b[0m invalid syntax\n"
          ]
        }
      ]
    },
    {
      "metadata": {
        "id": "91USxQIO93sS",
        "colab_type": "code",
        "outputId": "bf65adc2-be19-4f68-ac0f-7210b00fb61e",
        "colab": {
          "base_uri": "https://localhost:8080/",
          "height": 34
        }
      },
      "cell_type": "code",
      "source": [
        "computer = reg_Noun(\"computadora\", \"computadoras\", \"la\",)   \n",
        "computer.lookup(True, True)"
      ],
      "execution_count": 0,
      "outputs": [
        {
          "output_type": "execute_result",
          "data": {
            "text/plain": [
              "' las computadoras '"
            ]
          },
          "metadata": {
            "tags": []
          },
          "execution_count": 5
        }
      ]
    },
    {
      "metadata": {
        "id": "WjBfz2Ae7I21",
        "colab_type": "code",
        "colab": {}
      },
      "cell_type": "code",
      "source": [
        "funny = reg_Adject(\"hermos\")\n",
        "funny.lookup(False, True)"
      ],
      "execution_count": 0,
      "outputs": []
    },
    {
      "metadata": {
        "id": "F6WPRBYa58Fb",
        "colab_type": "code",
        "colab": {}
      },
      "cell_type": "code",
      "source": [
        ""
      ],
      "execution_count": 0,
      "outputs": []
    }
  ]
}